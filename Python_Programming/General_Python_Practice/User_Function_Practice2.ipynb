{
 "cells": [
  {
   "cell_type": "code",
   "execution_count": 1,
   "metadata": {},
   "outputs": [],
   "source": [
    "import matplotlib.pyplot as plt\n",
    "import numpy as np\n",
    "import pandas as pd\n",
    "import math"
   ]
  },
  {
   "cell_type": "markdown",
   "metadata": {},
   "source": [
    "#### 1. Shipping Charges\n",
    "The Fast Freight Shipping Company charges the following rates:\n",
    "Weight of Package Rate per Pound\n",
    "- 2 pounds or less \\\\$1.50\n",
    "- Over 2 pounds but not more than 6 pounds \\\\$3.00\n",
    "- Over 6 pounds but not more than 10 pounds \\\\$4.00\n",
    "- Over 10 pounds \\\\$4.75\n",
    "\n",
    "Write a program that asks the user to enter the weight of a package then displays the shipping\n",
    "charges."
   ]
  },
  {
   "cell_type": "code",
   "execution_count": 2,
   "metadata": {},
   "outputs": [
    {
     "name": "stdout",
     "output_type": "stream",
     "text": [
      "Input weight of package in lbs: 5\n",
      "Your 5.0 pound package will cost $15.0 to ship\n"
     ]
    }
   ],
   "source": [
    "weight = float(input(\"Input weight of package in lbs: \"))\n",
    "\n",
    "def calc_shipping(weight):\n",
    "    \n",
    "    if weight <= 2:\n",
    "        shipping_cost = 1.50 * weight\n",
    "    elif weight > 2 and weight <= 6:\n",
    "        shipping_cost = 3.00 * weight\n",
    "    elif weight > 6 and weight <= 10:\n",
    "        shipping_cost = 4.00 * weight\n",
    "    else:\n",
    "        shipping_cost = 4.75 * weight\n",
    "        \n",
    "    print(\"Your \" + str(weight) + \" pound package will cost $\" + str(shipping_cost) + \" to ship\")\n",
    "\n",
    "calc_shipping(weight)"
   ]
  },
  {
   "cell_type": "markdown",
   "metadata": {},
   "source": [
    "#### 2. Body Mass Index\n",
    "Write a program that calculates and displays a person’s body mass index (BMI). The BMI is\n",
    "often used to determine whether a person is overweight or underweight for his or her height. A\n",
    "person’s BMI is calculated with the following formula:\n",
    "\n",
    "BMI = weight × $\\frac{703}{height^2}$\n",
    "\n",
    "where weight is measured in pounds and height is measured in inches. The program should ask\n",
    "the user to enter his or her weight and height, then display the user’s BMI. The program should\n",
    "also display a message indicating whether the person has optimal weight, is underweight, or is\n",
    "overweight. A person’s weight is considered to be optimal if his or her BMI is between 18.5 and 25. If the BMI is less than 18.5, the person is considered to be underweight. If the BMI value is\n",
    "greater than 25, the person is considered to be overweight."
   ]
  },
  {
   "cell_type": "code",
   "execution_count": 3,
   "metadata": {},
   "outputs": [
    {
     "name": "stdout",
     "output_type": "stream",
     "text": [
      "Input your weight in lbs: 185\n",
      "Input your height in inches: 76\n",
      "Your BMI is: 22.52\n"
     ]
    }
   ],
   "source": [
    "weight = float(input(\"Input your weight in lbs: \"))\n",
    "height = float(input(\"Input your height in inches: \"))\n",
    "\n",
    "def calc_bmi(weight, height):\n",
    "    bmi = round(weight * (703/height**2),2)\n",
    "    \n",
    "    print(\"Your BMI is: \" + str(bmi))\n",
    "\n",
    "calc_bmi(weight, height)"
   ]
  },
  {
   "cell_type": "markdown",
   "metadata": {},
   "source": [
    "#### 3. Time Calculator\n",
    "Write a program that asks the user to enter a number of seconds and works as follows:\n",
    "There are 60 seconds in a minute. If the number of seconds entered by the user is greater\n",
    "than or equal to 60, the program should convert the number of seconds to minutes and\n",
    "seconds.\n",
    "There are 3,600 seconds in an hour. If the number of seconds entered by the user is greater\n",
    "than or equal to 3,600, the program should convert the number of seconds to hours,\n",
    "minutes, and seconds.\n",
    "There are 86,400 seconds in a day. If the number of seconds entered by the user is greater\n",
    "than or equal to 86,400, the program should convert the number of seconds to days, hours,\n",
    "minutes, and seconds."
   ]
  },
  {
   "cell_type": "code",
   "execution_count": 4,
   "metadata": {},
   "outputs": [
    {
     "name": "stdout",
     "output_type": "stream",
     "text": [
      "Enter the number of seconds: 650\n",
      "minutes: 10\n",
      "seconds: 50\n"
     ]
    }
   ],
   "source": [
    "seconds_input = int(input(\"Enter the number of seconds: \"))\n",
    "\n",
    "def time_calculator(seconds):\n",
    "    \n",
    "    if seconds < 60:\n",
    "        print(\"seconds: \" + str(seconds_input))\n",
    "        \n",
    "    elif seconds >= 60 and seconds < 3600:\n",
    "        minutes = math.trunc(seconds_input/60)\n",
    "        seconds = seconds_input - minutes*60\n",
    "        print(\"minutes: \" + str(minutes) + \"\\n\"\n",
    "              \"seconds: \" + str(seconds))\n",
    "        \n",
    "    elif seconds >= 3600 and seconds < 86400:\n",
    "        hours = math.trunc(seconds_input/3600)\n",
    "        minutes = math.trunc((seconds_input - hours*3600)/60)\n",
    "        seconds = seconds_input - hours*3600 - minutes*60\n",
    "        print(\"hours: \" + str(hours) + \"\\n\" + \n",
    "              \"minutes: \" + str(minutes) + \"\\n\" + \n",
    "              \"seconds: \" + str(seconds) )\n",
    "        \n",
    "    else:\n",
    "        days = math.trunc(seconds_input/86400)\n",
    "        hours = math.trunc((seconds_input - days*86400)/3600)\n",
    "        minutes = math.trunc((seconds_input - days*86400 - hours*3600)/60)\n",
    "        seconds = seconds_input - days*86400 - hours*3600 - minutes*60\n",
    "        print(\"days: \" + str(days) + \"\\n\" + \n",
    "              \"hours: \" + str(hours) + \"\\n\" + \n",
    "              \"minutes: \" + str(minutes) + \"\\n\" + \n",
    "              \"seconds: \" + str(seconds))\n",
    "        \n",
    "time_calculator(seconds_input)"
   ]
  },
  {
   "cell_type": "markdown",
   "metadata": {},
   "source": [
    "#### 4. February Days\n",
    "The month of February normally has 28 days. But if it is a leap year, February has 29 days.\n",
    "Write a program that asks the user to enter a year. The program should then display the number\n",
    "of days in February that year. Use the following criteria to identify leap years:\n",
    "1. Determine whether the year is divisible by 100. If it is, then it is a leap year if and only if it\n",
    "is also divisible by 400. For example, 2000 is a leap year, but 2100 is not.\n",
    "2. If the year is not divisible by 100, then it is a leap year if and only if it is divisible by 4. For\n",
    "example, 2008 is a leap year, but 2009 is not.\n",
    "Here is a sample run of the program:\n",
    "\n",
    "Enter a year: 2008\n",
    "\n",
    "In 2008 February has 29 days."
   ]
  },
  {
   "cell_type": "code",
   "execution_count": 7,
   "metadata": {},
   "outputs": [
    {
     "name": "stdout",
     "output_type": "stream",
     "text": [
      "Enter the year: 2008\n",
      "February has 29 days\n"
     ]
    }
   ],
   "source": [
    "year = int(input(\"Enter the year: \"))\n",
    "\n",
    "def february(year):\n",
    "    \n",
    "    if year%100 == 0 and year%400 == 0:\n",
    "        print(\"February has 29 days\")\n",
    "    elif year%100 != 0 and year%4 == 0:\n",
    "        print(\"February has 29 days\")\n",
    "    else:\n",
    "        print(\"February has 28 days\")\n",
    "\n",
    "february(year)"
   ]
  },
  {
   "cell_type": "markdown",
   "metadata": {},
   "source": [
    "#### 6. Restaurant Selector\n",
    "\n",
    "You have a group of friends coming to visit for your high school reunion, and you want to take\n",
    "them out to eat at a local restaurant. You aren’t sure if any of them have dietary restrictions, but\n",
    "your restaurant choices are as follows:\n",
    "- Joe’s Gourmet Burgers—Vegetarian: No, Vegan: No, Gluten-Free: No\n",
    "- Main Street Pizza Company—Vegetarian: Yes, Vegan: No, Gluten-Free: Yes\n",
    "- Corner Café—Vegetarian: Yes, Vegan: Yes, Gluten-Free: Yes\n",
    "- Mama’s Fine Italian—Vegetarian: Yes, Vegan: No, Gluten-Free: No\n",
    "- The Chef’s Kitchen—Vegetarian: Yes, Vegan: Yes, Gluten-Free: Yes\n",
    "\n",
    "Write a program that asks whether any members of your party are vegetarian, vegan, or glutenfree,\n",
    "to which then displays only the restaurants to which you may take the group. Here is an\n",
    "example of the program’s output:\n",
    "\n",
    "Is anyone in your party a vegetarian? yes\n",
    "\n",
    "Is anyone in your party a vegan? no\n",
    "\n",
    "Is anyone in your party gluten-free? yes\n",
    "\n",
    "Here are your restaurant choices:\n",
    "\n",
    "Main Street Pizza Company\n",
    "\n",
    "Corner Cafe\n",
    "\n",
    "The Chef's Kitchen\n",
    "\n",
    "Here is another example of the program’s output:\n",
    "\n",
    "Is anyone in your party a vegetarian? yes\n",
    "\n",
    "Is anyone in your party a vegan? yes\n",
    "\n",
    "Is anyone in your party gluten-free? yes\n",
    "\n",
    "Here are your restaurant choices:\n",
    "\n",
    "Corner Cafe\n",
    "\n",
    "The Chef's Kitchen"
   ]
  },
  {
   "cell_type": "code",
   "execution_count": 3,
   "metadata": {},
   "outputs": [
    {
     "name": "stdout",
     "output_type": "stream",
     "text": [
      "Is anyone vegetarian? 1=Yes and 0=No: 0\n",
      "Is anyone vegan? 1=Yes and 0=No: 1\n",
      "Is anyone gluten_free? 1=Yes and 0=No: 0\n",
      "['Corner Café', 'The Chef’s Kitchen']\n"
     ]
    }
   ],
   "source": [
    "vegetarian = int(input(\"Is anyone vegetarian? 1=Yes and 0=No: \"))\n",
    "vegan = int(input(\"Is anyone vegan? 1=Yes and 0=No: \"))\n",
    "gluten_free = int(input(\"Is anyone gluten_free? 1=Yes and 0=No: \"))\n",
    "\n",
    "def restaurant(vegetarian, vegan, gluten_free):\n",
    "    \n",
    "    if vegetarian == 1:\n",
    "        s1 = [\"Main Street Pizza Company\", \"Corner Café\", \"Mama’s Fine Italian\", \"The Chef’s Kitchen\"]\n",
    "    else:\n",
    "        s1 = [\"Joe’s Gourmet Burgers\", \"Main Street Pizza Company\", \"Corner Café\", \"Mama’s Fine Italian\", \"The Chef’s Kitchen\"]\n",
    "    \n",
    "    if vegan == 1:\n",
    "        s2 = [\"Corner Café\", \"The Chef’s Kitchen\"]\n",
    "    else:\n",
    "        s2 = [\"Joe’s Gourmet Burgers\", \"Main Street Pizza Company\", \"Corner Café\", \"Mama’s Fine Italian\", \"The Chef’s Kitchen\"]\n",
    "        \n",
    "    if gluten_free == 1:\n",
    "        s3 = [\"Main Street Pizza Company\", \"Corner Café\", \"The Chef’s Kitchen\"]\n",
    "    else:\n",
    "        s3 = [\"Joe’s Gourmet Burgers\", \"Main Street Pizza Company\", \"Corner Café\", \"Mama’s Fine Italian\", \"The Chef’s Kitchen\"]\n",
    "    \n",
    "    r1 = set(s1) \n",
    "    r2 = set(s2) \n",
    "    r3 = set(s3) \n",
    "      \n",
    "    # Calculates intersection of  \n",
    "    # sets on s1 and s2 \n",
    "    set1 = r1.intersection(r2)        \n",
    "      \n",
    "    # Calculates intersection of sets \n",
    "    # on set1 and s3 \n",
    "    result_set = set1.intersection(r3) \n",
    "      \n",
    "    # Converts resulting set to list \n",
    "    final_list = list(result_set)\n",
    "    \n",
    "    print(final_list)\n",
    "    \n",
    "restaurant(vegetarian, vegan, gluten_free)"
   ]
  }
 ],
 "metadata": {
  "kernelspec": {
   "display_name": "Python 3",
   "language": "python",
   "name": "python3"
  },
  "language_info": {
   "codemirror_mode": {
    "name": "ipython",
    "version": 3
   },
   "file_extension": ".py",
   "mimetype": "text/x-python",
   "name": "python",
   "nbconvert_exporter": "python",
   "pygments_lexer": "ipython3",
   "version": "3.7.6"
  }
 },
 "nbformat": 4,
 "nbformat_minor": 4
}
