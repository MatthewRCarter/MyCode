{
 "cells": [
  {
   "cell_type": "markdown",
   "metadata": {},
   "source": [
    "#### 1.  Distance Traveled \n",
    "\n",
    "The distance a vehicle travels can be calculated as follows: distance = speed × time \n",
    "\n",
    "For example, if a train travels 40 miles per hour for three hours, the distance traveled is 120 miles. Write a program that asks the user for the speed of a vehicle (in miles per hour) and the number of hours it has traveled. It should then use a loop to display the distance the vehicle has traveled for each hour of that time period. \n",
    "\n",
    "Here is an example of the desired output: \n",
    "\n",
    "What is the speed of the vehicle in mph? 40 \n",
    "\n",
    "How many hours has it traveled? 3 \n",
    "\n",
    "|Hour |Distance Traveled|\n",
    "|-----|-----------------|\n",
    "|1 |40 |\n",
    "|2 |80|\n",
    "|3 |120|"
   ]
  },
  {
   "cell_type": "code",
   "execution_count": 3,
   "metadata": {},
   "outputs": [
    {
     "name": "stdout",
     "output_type": "stream",
     "text": [
      "How many hours will you be driving: 5\n",
      "How fast will you be driving (mph): 35\n",
      "\n",
      "Hour\t Distance Traveled \n",
      " -----------------\n",
      "1 \t 35.0\n",
      "2 \t 70.0\n",
      "3 \t 105.0\n",
      "4 \t 140.0\n",
      "5 \t 175.0\n"
     ]
    }
   ],
   "source": [
    "time = int(input(\"How many hours will you be driving: \"))\n",
    "speed = float(input(\"How fast will you be driving (mph): \"))\n",
    "\n",
    "print(\"\\n\" + \"Hour\\t Distance Traveled\",\"\\n\", \"-----------------\")\n",
    "for hour in range(1, time + 1):\n",
    "    distance = hour*speed\n",
    "    print(hour, '\\t', distance) "
   ]
  },
  {
   "cell_type": "markdown",
   "metadata": {},
   "source": [
    "#### 2. Average Rainfall \n",
    "\n",
    "Write a program that uses nested loops to collect data and calculate the average rainfall over a period of years. The program should first ask for the number of years. The outer loop will iterate once for each year. The inner loop will iterate twelve times, once for each month. Each iteration of the inner loop will ask the user for the inches of rainfall for that month. After all iterations, the program should display the number of months, the total inches of rainfall, and the average rainfall per month for the entire period. \n"
   ]
  },
  {
   "cell_type": "code",
   "execution_count": 1,
   "metadata": {},
   "outputs": [
    {
     "name": "stdout",
     "output_type": "stream",
     "text": [
      "How many years: 1\n",
      "How much rainfall this month in inches: 5\n",
      "How much rainfall this month in inches: 5\n",
      "How much rainfall this month in inches: 5\n",
      "How much rainfall this month in inches: 5\n",
      "How much rainfall this month in inches: 5\n",
      "How much rainfall this month in inches: 5\n",
      "How much rainfall this month in inches: 5\n",
      "How much rainfall this month in inches: 5\n",
      "How much rainfall this month in inches: 5\n",
      "How much rainfall this month in inches: 5\n",
      "How much rainfall this month in inches: 5\n",
      "How much rainfall this month in inches: 5\n",
      "Over 12 months, there have been 60 inches of rainfall\n"
     ]
    }
   ],
   "source": [
    "years = int(input(\"How many years: \"))\n",
    "\n",
    "months = 12\n",
    "total_rainfall = 0\n",
    "\n",
    "for year in range(years):\n",
    "    for month in range(months):\n",
    "        rainfall = int(input(\"How much rainfall this month in inches: \"))\n",
    "        total_rainfall = total_rainfall + rainfall\n",
    "\n",
    "print(\"\\n\" + \"Over \" + str(months*years) + \" months, there have been \" + str(total_rainfall) + \" inches of rainfall\")"
   ]
  },
  {
   "cell_type": "markdown",
   "metadata": {},
   "source": [
    "#### 3. Pennies for Pay \n",
    "\n",
    "Write a program that calculates the amount of money a person would earn over a period of time if his or her salary is one penny the first day, two pennies the second day, and continues to double each day. The program should ask the user for the number of days. Display a table showing what the salary was for each day, then show the total pay at the end of the period. The output should be displayed in a dollar amount, not the number of pennies. "
   ]
  },
  {
   "cell_type": "code",
   "execution_count": 6,
   "metadata": {},
   "outputs": [
    {
     "name": "stdout",
     "output_type": "stream",
     "text": [
      "How many days will you earn pennies: 100\n",
      "\n",
      "Day\tPennies\n",
      "-----------------------\n",
      "1\t2\n",
      "2\t4\n",
      "3\t6\n",
      "4\t8\n",
      "5\t10\n",
      "6\t12\n",
      "7\t14\n",
      "8\t16\n",
      "9\t18\n",
      "10\t20\n",
      "11\t22\n",
      "12\t24\n",
      "13\t26\n",
      "14\t28\n",
      "15\t30\n",
      "16\t32\n",
      "17\t34\n",
      "18\t36\n",
      "19\t38\n",
      "20\t40\n",
      "21\t42\n",
      "22\t44\n",
      "23\t46\n",
      "24\t48\n",
      "25\t50\n",
      "26\t52\n",
      "27\t54\n",
      "28\t56\n",
      "29\t58\n",
      "30\t60\n",
      "31\t62\n",
      "32\t64\n",
      "33\t66\n",
      "34\t68\n",
      "35\t70\n",
      "36\t72\n",
      "37\t74\n",
      "38\t76\n",
      "39\t78\n",
      "40\t80\n",
      "41\t82\n",
      "42\t84\n",
      "43\t86\n",
      "44\t88\n",
      "45\t90\n",
      "46\t92\n",
      "47\t94\n",
      "48\t96\n",
      "49\t98\n",
      "50\t100\n",
      "51\t102\n",
      "52\t104\n",
      "53\t106\n",
      "54\t108\n",
      "55\t110\n",
      "56\t112\n",
      "57\t114\n",
      "58\t116\n",
      "59\t118\n",
      "60\t120\n",
      "61\t122\n",
      "62\t124\n",
      "63\t126\n",
      "64\t128\n",
      "65\t130\n",
      "66\t132\n",
      "67\t134\n",
      "68\t136\n",
      "69\t138\n",
      "70\t140\n",
      "71\t142\n",
      "72\t144\n",
      "73\t146\n",
      "74\t148\n",
      "75\t150\n",
      "76\t152\n",
      "77\t154\n",
      "78\t156\n",
      "79\t158\n",
      "80\t160\n",
      "81\t162\n",
      "82\t164\n",
      "83\t166\n",
      "84\t168\n",
      "85\t170\n",
      "86\t172\n",
      "87\t174\n",
      "88\t176\n",
      "89\t178\n",
      "90\t180\n",
      "91\t182\n",
      "92\t184\n",
      "93\t186\n",
      "94\t188\n",
      "95\t190\n",
      "96\t192\n",
      "97\t194\n",
      "98\t196\n",
      "99\t198\n",
      "100\t200\n",
      "\n",
      "You made $101.0\n"
     ]
    }
   ],
   "source": [
    "days = int(input(\"How many days will you earn pennies: \"))\n",
    "\n",
    "print(\"\\n\" + \"Day\" + \"\\t\" + \"Pennies\")\n",
    "print(\"-----------------------\")\n",
    "\n",
    "total = 0\n",
    "\n",
    "for day in range(1, days + 1):\n",
    "    pennies = day * 2\n",
    "    total = total + pennies\n",
    "    print(str(day) + \"\\t\" + str(pennies))\n",
    "print(\"\\n\" + \"You made $\" + str(round(total/100,2)))\n"
   ]
  },
  {
   "cell_type": "markdown",
   "metadata": {},
   "source": [
    "#### 4.  Sum of Numbers \n",
    "\n",
    "Write a program with a loop that asks the user to enter a series of positive numbers. The user should enter a negative number to signal the end of the series. After all the positive numbers have been entered, the program should display their sum. "
   ]
  },
  {
   "cell_type": "code",
   "execution_count": 11,
   "metadata": {},
   "outputs": [
    {
     "name": "stdout",
     "output_type": "stream",
     "text": [
      "Enter a number: 5\n",
      "Enter a number: 4\n",
      "Enter a number: 9\n",
      "Enter a number: -5\n",
      "\n",
      "The total is 18!\n"
     ]
    }
   ],
   "source": [
    "total = 0\n",
    "\n",
    "while True:\n",
    "    number = int(input('Enter a number: '))\n",
    "    if number < 0:\n",
    "        break\n",
    "    total = total + number\n",
    "print(\"\\n\" \"The total is \" + str(total) + \"!\")"
   ]
  },
  {
   "cell_type": "markdown",
   "metadata": {},
   "source": [
    "#### 5.  Ocean Levels \n",
    "\n",
    "Assuming the ocean’s level is currently rising at about 1.6 millimeters per year, create an application that displays the number of millimeters that the ocean will have risen each year for the next 25 years. "
   ]
  },
  {
   "cell_type": "code",
   "execution_count": 4,
   "metadata": {},
   "outputs": [
    {
     "name": "stdout",
     "output_type": "stream",
     "text": [
      "0: 0.0mm\n",
      "1: 1.6mm\n",
      "2: 3.2mm\n",
      "3: 4.8mm\n",
      "4: 6.4mm\n",
      "5: 8.0mm\n",
      "6: 9.6mm\n",
      "7: 11.2mm\n",
      "8: 12.8mm\n",
      "9: 14.4mm\n",
      "10: 16.0mm\n",
      "11: 17.6mm\n",
      "12: 19.2mm\n",
      "13: 20.8mm\n",
      "14: 22.4mm\n",
      "15: 24.0mm\n",
      "16: 25.6mm\n",
      "17: 27.2mm\n",
      "18: 28.8mm\n",
      "19: 30.4mm\n",
      "20: 32.0mm\n",
      "21: 33.6mm\n",
      "22: 35.2mm\n",
      "23: 36.8mm\n",
      "24: 38.4mm\n",
      "25: 40.0mm\n"
     ]
    }
   ],
   "source": [
    "ocean_increase = 1.6\n",
    "\n",
    "for year in range(26):\n",
    "    print(str(year) + \": \" + str(round(ocean_increase*year,2)) + \"mm\")"
   ]
  },
  {
   "cell_type": "markdown",
   "metadata": {},
   "source": [
    "#### 6. Weight Loss \n",
    "\n",
    "If a moderately active person cuts their calorie intake by 500 calories a day, they can typically lose about 4 pounds a month. Write a program that lets the user enter their starting weight, then creates and displays a table showing what their expected weight will be at the end of each month for the next 6 months if they stay on this diet. "
   ]
  },
  {
   "cell_type": "code",
   "execution_count": 18,
   "metadata": {},
   "outputs": [
    {
     "name": "stdout",
     "output_type": "stream",
     "text": [
      "Enter starting weight: 165\n",
      "Month 0: 165\n",
      "Month 1: 161\n",
      "Month 2: 157\n",
      "Month 3: 153\n",
      "Month 4: 149\n",
      "Month 5: 145\n",
      "Month 6: 141\n"
     ]
    }
   ],
   "source": [
    "starting_weight = int(input(\"Enter starting weight: \"))\n",
    "\n",
    "def weight_loss(starting_weight):\n",
    "    for month in range(7):\n",
    "        print(\"Month \" + str(month) + \": \" + str(starting_weight - month*4))\n",
    "        \n",
    "weight_loss(starting_weight)"
   ]
  },
  {
   "cell_type": "markdown",
   "metadata": {},
   "source": [
    "#### 7. Calculating the Factorial of a Number \n",
    "\n",
    "In mathematics, the notation n! represents the factorial of the nonnegative integer n. The factorial of n is the product of all the nonnegative integers from 1 to n. \n",
    "\n",
    "For example\n",
    "\n",
    "7!=1×2×3×4×5×6×7=5,040\n",
    "\n",
    "and \n",
    "\n",
    "4!=1×2×3×4=24 \n",
    "\n",
    "Write a program that lets the user enter a nonnegative integer then uses a loop to calculate the factorial of that number. Display the factorial. \n"
   ]
  },
  {
   "cell_type": "code",
   "execution_count": 27,
   "metadata": {},
   "outputs": [
    {
     "name": "stdout",
     "output_type": "stream",
     "text": [
      "Enter a number to be factorial-ed: 9\n",
      "The factorial of 9 is : 362880\n"
     ]
    }
   ],
   "source": [
    "factorial_num = int(input(\"Enter a number to be factorial-ed: \"))\n",
    "\n",
    "fact = 1\n",
    "  \n",
    "for i in range(1,factorial_num+1): \n",
    "    fact = fact * i \n",
    "      \n",
    "print (\"The factorial of \" +  str(factorial_num) +  \" is \" + str(fact))"
   ]
  },
  {
   "cell_type": "markdown",
   "metadata": {},
   "source": [
    "#### 8. Population\n",
    "\n",
    "Write a program that predicts the approximate size of a population of organisms. The application should allow the user to enter the starting number of organisms, the average daily population increase (as a percentage), and the number of days the organisms will be left to multiply. \n",
    "\n",
    "For example, assume the user enters the following values: \n",
    "- Starting number of organisms: 2 \n",
    "- Average daily increase: 30% \n",
    "- Number of days to multiply: 10 \n",
    "\n",
    "The program should display the following table of data:\n",
    "\n",
    "|Day |Approximate Population|\n",
    "|----|----------------------|\n",
    "|1|2|\n",
    "|2 |2.6|\n",
    "|3 |3.38 |\n",
    "|4 |4.394| \n",
    "|5 |5.7122|\n",
    "|6 |7.42586|\n",
    "|7 |9.653619|\n",
    "|8 |12.5497| \n",
    "|9 |16.31462|\n",
    "|10 |21.209|\n",
    "\n"
   ]
  },
  {
   "cell_type": "code",
   "execution_count": 32,
   "metadata": {},
   "outputs": [
    {
     "name": "stdout",
     "output_type": "stream",
     "text": [
      "Starting # of organisms: 2\n",
      "Growth Rate (%) : 30\n",
      "Days to grow: 10\n",
      "\n",
      "Day\tPopulation\n",
      "-------------------------\n",
      "1\t2.6\n",
      "2\t3.38\n",
      "3\t4.39\n",
      "4\t5.71\n",
      "5\t7.43\n",
      "6\t9.65\n",
      "7\t12.55\n",
      "8\t16.31\n",
      "9\t21.21\n",
      "10\t27.57\n"
     ]
    }
   ],
   "source": [
    "start_organism = int(input(\"Starting # of organisms: \"))\n",
    "growth_rate = int(input(\"Growth Rate (%) : \"))\n",
    "days = int(input(\"Days to grow: \"))\n",
    "\n",
    "print(\"\\n\" + \"Day\" + \"\\t\" + \"Population\" + \"\\n\" + \"-------------------------\")\n",
    "\n",
    "for day in range(1,days+1):\n",
    "    print(str(day) + \"\\t\" + str(round(start_organism * (1 + growth_rate/100)**day,2)))"
   ]
  },
  {
   "cell_type": "markdown",
   "metadata": {},
   "source": [
    "#### 9.  Write a program that uses nested loops to draw this pattern: \n",
    "\n",
    "<pre>\n",
    "## \n",
    "# #\n",
    "#  #\n",
    "#   #\n",
    "#    #\n",
    "#     #\n",
    "#      #\n",
    "</pre>\n",
    "\n"
   ]
  },
  {
   "cell_type": "code",
   "execution_count": 38,
   "metadata": {},
   "outputs": [
    {
     "name": "stdout",
     "output_type": "stream",
     "text": [
      "##\n",
      "# #\n",
      "#  #\n",
      "#   #\n",
      "#    #\n",
      "#     #\n",
      "#      #\n"
     ]
    }
   ],
   "source": [
    "for i in range(7):\n",
    "    space = \" \"\n",
    "    print(\"#\" + space*i + \"#\")"
   ]
  },
  {
   "cell_type": "markdown",
   "metadata": {},
   "source": [
    "#### 10. Write a program that uses nested loops to draw this pattern: \n",
    "\n",
    "<pre>\n",
    "******* \n",
    "****** \n",
    "***** \n",
    "**** \n",
    "*** \n",
    "** \n",
    "*\n",
    "</pre>"
   ]
  },
  {
   "cell_type": "code",
   "execution_count": 43,
   "metadata": {},
   "outputs": [
    {
     "name": "stdout",
     "output_type": "stream",
     "text": [
      "*******\n",
      "******\n",
      "*****\n",
      "****\n",
      "***\n",
      "**\n",
      "*\n"
     ]
    }
   ],
   "source": [
    "for i in reversed(range(1,8)):\n",
    "    star = \"*\"\n",
    "    print(star * i)"
   ]
  },
  {
   "cell_type": "markdown",
   "metadata": {},
   "source": [
    "#### 11. Test Average and Grade \n",
    "\n",
    "Write a program that asks the user to enter five test scores. The program should display a letter grade for each score and the average test score. Write the following functions in the program: \n",
    "- calc_average. \n",
    "\n",
    "This function should accept five test scores as arguments and return the average of the scores. \n",
    "- determine_grade. \n",
    "\n",
    "This function should accept a test score as an argument and return a letter grade for the score based on the following grading scale:\n",
    "\n",
    "|Score |Letter Grade |\n",
    "|------|-------------|\n",
    "|90–100| A |\n",
    "|80–89 |B |\n",
    "|70–79 |C |\n",
    "|60–69 |D |\n",
    "|Below 60| F |\n"
   ]
  },
  {
   "cell_type": "code",
   "execution_count": 18,
   "metadata": {},
   "outputs": [
    {
     "name": "stdout",
     "output_type": "stream",
     "text": [
      "Enter grade 1: 97\n",
      "Enter grade 2: 87\n",
      "Enter grade 3: 67\n",
      "Enter grade 4: 97\n",
      "Enter grade 5: 97\n",
      "Your average score is 89\n",
      "The grade for 89 is a(n)B\n"
     ]
    }
   ],
   "source": [
    "import statistics as stats\n",
    "\n",
    "g1 = int(input(\"Enter grade 1: \"))\n",
    "g2 = int(input(\"Enter grade 2: \"))\n",
    "g3 = int(input(\"Enter grade 3: \"))\n",
    "g4 = int(input(\"Enter grade 4: \"))\n",
    "g5 = int(input(\"Enter grade 5: \"))\n",
    "\n",
    "def grade_getter(score):\n",
    "    if score >= 90:\n",
    "        grade = \"A\"\n",
    "    elif score < 90 and score >= 80:\n",
    "        grade = \"B\"\n",
    "    elif score < 80 and score >= 70:\n",
    "        grade = \"C\"\n",
    "    elif score < 70 and score >= 60:\n",
    "        grade = \"D\"\n",
    "    else:\n",
    "        grade = \"F\"\n",
    "        \n",
    "    return(grade)\n",
    "\n",
    "\n",
    "grade_list = [g1,g2,g3,g4,g5]\n",
    "\n",
    "def calc_average(grade_list):\n",
    "    mean_score = stats.mean(grade_list)\n",
    "    print(\"Your average score is \" + str(mean_score))\n",
    "    \n",
    "def determine_grade(grade_list):\n",
    "    print(\"The grade for \" + str(stats.mean(grade_list)) + \" is a \" + grade_getter(stats.mean(grade_list)))\n",
    "\n",
    "calc_average(grade_list)\n",
    "determine_grade(grade_list)"
   ]
  },
  {
   "cell_type": "markdown",
   "metadata": {},
   "source": [
    "#### 12. Random Numbers\n",
    "\n",
    "Write a program that generates 100 random numbers and keeps a count of how many of those random numbers are even, and how many of them are odd. "
   ]
  },
  {
   "cell_type": "code",
   "execution_count": 29,
   "metadata": {},
   "outputs": [
    {
     "name": "stdout",
     "output_type": "stream",
     "text": [
      "Odd numbers: 50\n",
      "Even numbers: 50\n"
     ]
    }
   ],
   "source": [
    "import random\n",
    "rando_list = []\n",
    "\n",
    "for num in range(0, 100):\n",
    "    rando_list.append(random.randint(1,101))\n",
    "\n",
    "even = 0\n",
    "odd = 0\n",
    "\n",
    "for i in range(len(rando_list)):\n",
    "    if rando_list[i] % 2 == 0:\n",
    "        even = even +1\n",
    "    else:\n",
    "        odd = odd + 1\n",
    "\n",
    "print(\"Odd numbers: \" + str(odd) + \"\\n\" + \"Even numbers: \" + str(even))"
   ]
  },
  {
   "cell_type": "markdown",
   "metadata": {},
   "source": [
    "#### 13 Random Number Guessing Game \n",
    "\n",
    "Write a program that generates a random number in the range of 1 through 100, and asks the user to guess what the number is. If the user’s guess is higher than the random number, the program should display “Too high, try again.” If the user’s guess is lower than the random number, the program should display “Too low, try again.” If the user guesses the number, the application should congratulate the user and generate a new random number so the game can start over. \n",
    "\n",
    "Optional Enhancement: Enhance the game so it keeps count of the number of guesses that the user makes. When the user correctly guesses the random number, the program should display the number of guesses. "
   ]
  },
  {
   "cell_type": "code",
   "execution_count": 1,
   "metadata": {},
   "outputs": [
    {
     "name": "stdout",
     "output_type": "stream",
     "text": [
      "Guess a number 1-100: 50\n",
      "Too low, guess again\n",
      "Guess a number 1-100: 75\n",
      "Too low, guess again\n",
      "Guess a number 1-100: 89\n",
      "Too low, guess again\n",
      "Guess a number 1-100: 95\n",
      "Too low, guess again\n",
      "Guess a number 1-100: 98\n",
      "Too low, guess again\n",
      "Guess a number 1-100: 99\n",
      "Too low, guess again\n",
      "Guess a number 1-100: 100\n",
      "Nice! That's it!\n"
     ]
    }
   ],
   "source": [
    "import random\n",
    "\n",
    "guess = int(input(\"Guess a number 1-100: \"))\n",
    "\n",
    "random_number = random.randint(1,101)\n",
    "\n",
    "while guess != random_number:\n",
    "    if guess < random_number:\n",
    "        print(\"Too low, guess again\")\n",
    "        guess = int(input(\"Guess a number 1-100: \"))\n",
    "    elif guess > random_number:\n",
    "        print(\"Too high, guess again\")\n",
    "        guess = int(input(\"Guess a number 1-100: \"))\n",
    "print(\"Nice! That's it!\")"
   ]
  },
  {
   "cell_type": "code",
   "execution_count": null,
   "metadata": {},
   "outputs": [],
   "source": []
  }
 ],
 "metadata": {
  "kernelspec": {
   "display_name": "Python 3",
   "language": "python",
   "name": "python3"
  },
  "language_info": {
   "codemirror_mode": {
    "name": "ipython",
    "version": 3
   },
   "file_extension": ".py",
   "mimetype": "text/x-python",
   "name": "python",
   "nbconvert_exporter": "python",
   "pygments_lexer": "ipython3",
   "version": "3.7.6"
  }
 },
 "nbformat": 4,
 "nbformat_minor": 4
}
