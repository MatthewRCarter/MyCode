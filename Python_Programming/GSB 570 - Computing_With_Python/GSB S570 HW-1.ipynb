{
 "cells": [
  {
   "cell_type": "code",
   "execution_count": 19,
   "metadata": {},
   "outputs": [],
   "source": [
    "import matplotlib.pyplot as plt\n",
    "import numpy as np\n",
    "import pandas as pd\n",
    "import math"
   ]
  },
  {
   "cell_type": "markdown",
   "metadata": {},
   "source": [
    "#### 1. Celsius to Fahrenheit Temperature Converter\n",
    "\n",
    "Write a program that converts Celsius temperatures to Fahrenheit temperatures. The formula is as follows:\n",
    "\n",
    "\n",
    "$F = \\frac{9}{5}C + 32$\n",
    "\n",
    "\n",
    "The program should ask the user to enter a temperature in Celsius, then display the temperature converted to Fahrenheit.\n"
   ]
  },
  {
   "cell_type": "code",
   "execution_count": 24,
   "metadata": {},
   "outputs": [
    {
     "name": "stdout",
     "output_type": "stream",
     "text": [
      "Enter a temperature in celsius: 24\n",
      "The temperature in farenheit is: 75.2\n",
      "\n"
     ]
    },
    {
     "data": {
      "image/png": "[encoded data removed]",
      "text/plain": [
       "<Figure size 432x288 with 1 Axes>"
      ]
     },
     "metadata": {
      "needs_background": "light"
     },
     "output_type": "display_data"
    }
   ],
   "source": [
    "c = float(input(\"Enter a temperature in celsius: \"))\n",
    "\n",
    "def convert_to_farenheit(c):\n",
    "    f = (9*c/5) + 32\n",
    "    print(\"The temperature in farenheit is: \" + str(f) + \"\\n\")\n",
    "    \n",
    "convert_to_farenheit(c)\n",
    "\n",
    "c_list = list(range(-20,30))\n",
    "f_list = []\n",
    "for temp in c_list:\n",
    "    f_list.append((9*temp/5) + 32)\n",
    "\n",
    "plt.plot(c_list, f_list)\n",
    "plt.xlabel('Celsius') \n",
    "plt.ylabel('Farenheit') \n",
    "plt.title('Celsius vs Farenheit')\n",
    "plt.grid()\n",
    "plt.show()"
   ]
  },
  {
   "cell_type": "markdown",
   "metadata": {},
   "source": [
    "#### 2. Ingredient Adjuster\n",
    "A cookie recipe calls for the following ingredients:\n",
    "1.5 cups of sugar\n",
    "1 cup of butter\n",
    "2.75 cups of flour\n",
    "The recipe produces 48 cookies with this amount of the ingredients. Write a program that asks the user how many cookies he or she wants to make, then displays the number of cups of each ingredient needed for the specified number of cookies.\n"
   ]
  },
  {
   "cell_type": "code",
   "execution_count": 7,
   "metadata": {},
   "outputs": [
    {
     "name": "stdout",
     "output_type": "stream",
     "text": [
      "How many cookies are you making: 100\n",
      "\n",
      "You will need:\n",
      "\t3.12 cups of sugar\n",
      "\t2.08 cups of butter\n",
      "\t5.73 cups of flour\n",
      "\n"
     ]
    },
    {
     "data": {
      "image/png": "[encoded data removed]",
      "text/plain": [
       "<Figure size 432x288 with 1 Axes>"
      ]
     },
     "metadata": {
      "needs_background": "light"
     },
     "output_type": "display_data"
    }
   ],
   "source": [
    "num_cookies = int(input(\"How many cookies are you making: \"))\n",
    "\n",
    "sugar_ratio = 1.5/48\n",
    "butter_ratio = 1/48\n",
    "flour_ratio = 2.75/48\n",
    "\n",
    "def cookie_ratio(num_cookies):\n",
    "    \n",
    "    sugar_cups = round((num_cookies * sugar_ratio),2)\n",
    "    butter_cups = round((num_cookies * butter_ratio),2)\n",
    "    flour_cups = round((num_cookies * flour_ratio),2)\n",
    "    \n",
    "    print(\"\\n\" + \"You will need:\" + \"\\n\" \n",
    "    + \"\\t\" + str(sugar_cups) + \" cups of sugar\" + \"\\n\" \n",
    "    + \"\\t\" + str(butter_cups) + \" cups of butter\" + \"\\n\" \n",
    "    + \"\\t\" + str(flour_cups) + \" cups of flour\" + \"\\n\")\n",
    "    \n",
    "    objects = (\"Sugar\", \"Butter\", \"Flour\")\n",
    "    y_pos = np.arange(len(objects))\n",
    "    cups = [sugar_cups, butter_cups, flour_cups]\n",
    "\n",
    "    plt.bar(y_pos, cups, align='center', alpha=0.5)\n",
    "    plt.xticks(y_pos, objects)\n",
    "    plt.ylabel('Cups')\n",
    "    plt.title('Recipe For ' + str(num_cookies) + \" Cookies\")\n",
    " \n",
    "    \n",
    "cookie_ratio(num_cookies)"
   ]
  },
  {
   "cell_type": "markdown",
   "metadata": {},
   "source": [
    "#### 3. Male and Female Percentages\n",
    "Write a program that asks the user for the number of males and the number of females registered in a class. The program should display the percentage of males and females in the class.\n"
   ]
  },
  {
   "cell_type": "code",
   "execution_count": 8,
   "metadata": {},
   "outputs": [
    {
     "name": "stdout",
     "output_type": "stream",
     "text": [
      "How many males:54\n",
      "How many females:97\n",
      "\n",
      "There are 35.76% males and 64.24% females in the class\n",
      "\n"
     ]
    },
    {
     "data": {
      "image/png": "[encoded data removed]",
      "text/plain": [
       "<Figure size 432x288 with 1 Axes>"
      ]
     },
     "metadata": {},
     "output_type": "display_data"
    }
   ],
   "source": [
    "males = float(input(\"How many males:\"))\n",
    "females = float(input(\"How many females:\"))\n",
    "\n",
    "def gender_distribution(males, females):\n",
    " \n",
    "    male_proportion = round((males / (males + females))*100,2)\n",
    "    female_proportion = round((females / (males + females))*100,2)\n",
    "    \n",
    "    print(\"\\n\" + \"There are \" + str(male_proportion) + \"% males and \" + str(female_proportion) + \"% females in the class\" + \"\\n\")\n",
    "    \n",
    "    labels= [\"Males\", \"Females\"]\n",
    "    colors=['blue', 'yellow']\n",
    "    sizes= [male_proportion, female_proportion]\n",
    "    plt.pie(sizes,labels=labels, colors=colors, startangle=90, autopct='%1.1f%%')\n",
    "    plt.title('Class Gender Distribution')\n",
    "    plt.axis('equal')\n",
    "    plt.show()\n",
    "    \n",
    "gender_distribution(males, females)"
   ]
  },
  {
   "cell_type": "markdown",
   "metadata": {},
   "source": [
    "#### 4. Stock Transaction Program\n",
    "Last month, Joe purchased some stock in Acme Software, Inc. Here are the details of the purchase:\n",
    "\n",
    "- The number of shares that Joe purchased was 2,000. \n",
    "- When Joe purchased the stock, he paid $40.00 per share. \n",
    "- Joe paid his stockbroker a commission that amounted to 3 percent of the amount he paid for the stock. \n",
    "\n",
    "Two weeks later, Joe sold the stock. Here are the details of the sale:\n",
    "\n",
    "- The number of shares that Joe sold was 2,000.\n",
    "- He sold the stock for $42.75 per share.\n",
    "- He paid his stockbroker another commission that amounted to 3 percent of the amount he received for the stock.\n",
    "\n",
    "Write a program that displays the following information:\n",
    "\n",
    "- The amount of money Joe paid for the stock.\n",
    "- The amount of commission Joe paid his broker when he bought the stock.\n",
    "- The amount for which Joe sold the stock.\n",
    "- The amount of commission Joe paid his broker when he sold the stock.\n",
    "Display the amount of money that Joe had left when he sold the stock and paid his broker (both times). If this amount is positive, then Joe made a profit. If the amount is negative, then Joe lost money.\n"
   ]
  },
  {
   "cell_type": "code",
   "execution_count": 9,
   "metadata": {},
   "outputs": [
    {
     "name": "stdout",
     "output_type": "stream",
     "text": [
      "Joe paid $80000.00 for his stocks and $2400.00 to his broker for commission.\n",
      "Joe sold his stocks for $85500.00 and paid $2565.00 in commission to his broker.\n",
      "\n",
      "Joe made $535.00 on the stock market, a 0.006% ROI.\n"
     ]
    }
   ],
   "source": [
    "def joe_profit():\n",
    "    \n",
    "    shares_bought = 2000\n",
    "    buy_price = 40\n",
    "    buy_commission = .03\n",
    "    \n",
    "    shares_sold = 2000\n",
    "    sell_price = 42.75\n",
    "    sell_commission = .03\n",
    "    \n",
    "    buy_amount = round(shares_bought * buy_price * (1 + buy_commission),2)\n",
    "    sell_amount = round(shares_sold * sell_price * (1 - sell_commission),2)\n",
    "    profit = round(sell_amount - buy_amount,2)\n",
    "    \n",
    "    print(\"Joe paid $\" + str(shares_bought*buy_price) + \".00 for his stocks and $\" \n",
    "    + str(shares_bought * buy_price * buy_commission) + \"0 to his broker for commission.\")\n",
    "    \n",
    "    print(\"Joe sold his stocks for $\" + str(shares_sold*sell_price) + \"0 and paid $\" \n",
    "    + str(shares_sold * sell_price * sell_commission) + \"0 in commission to his broker.\" + \"\\n\")\n",
    "    \n",
    "    if profit > 0:\n",
    "        print(\"Joe made $\" + str(profit) + \"0 on the stock market, a \" + str(round(profit/buy_amount,3)) + \"% ROI.\")\n",
    "    elif profit == 0:\n",
    "        print(\"Joe broke even on the stock market\")\n",
    "    else:\n",
    "        print(\"Joe lost $\" + str(profit) + \"0 on the stock market, a -\" + str(round(profit/buy_amount,3)) + \"% ROI.\")\n",
    "\n",
    "joe_profit()"
   ]
  },
  {
   "cell_type": "markdown",
   "metadata": {},
   "source": [
    "#### 5. Planting Grapevines\n",
    "\n",
    "A vineyard owner is planting several new rows of grapevines, and needs to know how many grapevines to plant in each row. She has determined that after measuring the length of a future row, she can use the following formula to calculate the number of vines that will fit in the row, along with the trellis end-post assemblies that will need to be constructed at each end of the row:\n",
    "\n",
    "$V = \\frac{R – 2E}{S}$\n",
    "\n",
    "The terms in the formula are:\n",
    "- V is the number of grapevines that will fit in the row.\n",
    "- R is the length of the row, in feet.\n",
    "- E is the amount of space, in feet, used by an end-post assembly.\n",
    "- S is the space between vines, in feet.Write a program that makes the calculation for the vineyard owner. The program should ask the user to input the following:\n",
    "- The length of the row, in feet\n",
    "- The amount of space used by an end-post assembly, in feet\n",
    "- The amount of space between the vines, in feet\n",
    "\n",
    "Once the input data has been entered, the program should calculate and display the number of grapevines that will fit in the row.\n"
   ]
  },
  {
   "cell_type": "code",
   "execution_count": 10,
   "metadata": {},
   "outputs": [
    {
     "name": "stdout",
     "output_type": "stream",
     "text": [
      "Length of row in feet: 99\n",
      "Amount of space used by end-post in feet: 4\n",
      "Space between vines in feet: 1\n",
      "\n",
      "This row can have 91 vines.\n"
     ]
    }
   ],
   "source": [
    "r = float(input(\"Length of row in feet: \"))\n",
    "e = float(input(\"Amount of space used by end-post in feet: \"))\n",
    "s = float(input(\"Space between vines in feet: \"))\n",
    "\n",
    "def vine_calculator(r,e,s):\n",
    "    v = math.trunc((r - 2*e)/s) #truncating because you can't have a decimal value, and rounding is incorrect\n",
    "    print(\"\\n\" + \"This row can have \" + str(v) + \" vines.\")\n",
    "    \n",
    "vine_calculator(r, e, s)"
   ]
  },
  {
   "cell_type": "markdown",
   "metadata": {},
   "source": [
    "#### 6. Compound Interest\n",
    "When a bank account pays compound interest, it pays interest not only on the principal amount that was deposited into the account, but also on the interest that has accumulated over time. Suppose you want to deposit some money into a savings account, and let the account earn compound interest for a certain number of years. The formula for calculating the balance of the account after a specified number of years is:\n",
    "\n",
    "$ A = P(1+\\frac{r}{n})^{nt} $\n",
    "\n",
    "The terms in the formula are:\n",
    "- A is the amount of money in the account after the specified number of years.\n",
    "- P is the principal amount that was originally deposited into the account.\n",
    "- r is the annual interest rate.\n",
    "- n is the number of times per year that the interest is compounded.\n",
    "- t is the specified number of years.\n",
    "\n",
    "Write a program that makes the calculation for\n",
    "you. The program should ask the user to input the following:\n",
    "- The amount of principal originally deposited into the account\n",
    "- The annual interest rate paid by the account\n",
    "- The number of times per year that the interest is compounded (For example, if interest is compounded monthly, enter 12. If interest is compounded quarterly, enter 4)\n",
    "- The number of years the account will be left to earn interest\n",
    "\n",
    "Once the input data has been entered, the program should calculate and display the amount of money that will be in the account after the specified number of years.\n",
    "\n",
    "Note: The user should enter the interest rate as a percentage. For example, 2 percent would be entered as 2, not as .02. The program will then have to divide the input by 100 to move the decimal point to the correct position.\n"
   ]
  },
  {
   "cell_type": "code",
   "execution_count": 18,
   "metadata": {},
   "outputs": [
    {
     "name": "stdout",
     "output_type": "stream",
     "text": [
      "Amount of money to be invested: 1000\n",
      "Annual interest rate as a percentage: 5\n",
      "Number of times compounded annually: 4\n",
      "Years to invest: 5\n",
      "\n",
      "If you invest $1000 at 5.0% for 5.0 years, compounded 4 times annually, you will end up with $1282.037\n"
     ]
    }
   ],
   "source": [
    "p = int(input(\"Amount of money to be invested: \"))\n",
    "r = float(input(\"Annual interest rate as a percentage: \"))\n",
    "n = int(input(\"Number of times compounded annually: \"))\n",
    "t = float(input(\"Years to invest: \"))\n",
    "\n",
    "def investment_calculator(p, r, n, t):\n",
    "    a = round(p*(1 + (r/100)/n)**(n*t),3)\n",
    "    \n",
    "    print(\"\\n\" + \"If you invest $\" + str(math.trunc(p)) + \" at \" + str(r) \n",
    "    + \"% for \" + str(t) + \" years, compounded \" + str(n) \n",
    "    + \" times annually, you will end up with $\" + str(a))\n",
    "    \n",
    "investment_calculator(p, r, n, t)"
   ]
  },
  {
   "attachments": {
    "thumbnail_image.png": {
     "image/png": "[encoded data removed]"
    }
   },
   "cell_type": "markdown",
   "metadata": {},
   "source": [
    "#### 7. Fun with Markdown\n",
    "\n",
    "Use these resources:\n",
    "\n",
    "<a href=\"https://medium.com/ibm-data-science-experience/markdown-for-jupyter-notebooks-cheatsheet-386c05aeebed\"> Markdown for Jupyter Notebook Cheatsheet</a>\n",
    "\n",
    "<a href=\"https://link.springer.com/content/pdf/bbm%3A978-1-4842-3913-1%2F1.pdf\"> Writing Mathematical Expressions with LaTeX</a>\n",
    "\n",
    "<a href=\"https://medium.com/analytics-vidhya/the-ultimate-markdown-guide-for-jupyter-notebook-d5e5abf728fd\"> The Ultimate Markdown Guide (for Jupyter Notebook)</a>\n",
    "\n",
    "to create a markdown cell that contains this formula:\n",
    "\n",
    "![thumbnail_image.png](attachment:thumbnail_image.png)\n"
   ]
  },
  {
   "cell_type": "code",
   "execution_count": 21,
   "metadata": {},
   "outputs": [],
   "source": [
    "from IPython.display import display, Math, Latex"
   ]
  },
  {
   "cell_type": "markdown",
   "metadata": {},
   "source": [
    "$$s = \\sqrt{\\frac{\\sum(x - \\bar{x})^2}{(n-1)}}$$"
   ]
  },
  {
   "cell_type": "markdown",
   "metadata": {},
   "source": [
    "#### 8. Volume of a sphere\n",
    "\n",
    "The volume of a sphere with radius r is:\n",
    "\n",
    "$\\frac{4}{3} π r^3 $\n",
    "\n",
    "What is the volume of a sphere with radius 5?"
   ]
  },
  {
   "cell_type": "code",
   "execution_count": 91,
   "metadata": {},
   "outputs": [
    {
     "name": "stdout",
     "output_type": "stream",
     "text": [
      "Input a radius: 5\n",
      "The volume is 523.6 units cubed\n"
     ]
    }
   ],
   "source": [
    "radius = float(input(\"Input a radius: \"))\n",
    "\n",
    "def sphere_volume(radius):\n",
    "    volume = round((4*math.pi/3)*radius**3,2)\n",
    "    print(\"The volume is \" + str(volume) + \" units cubed\")\n",
    "    \n",
    "sphere_volume(radius)"
   ]
  },
  {
   "cell_type": "markdown",
   "metadata": {},
   "source": [
    "#### 9. Total Wholesale Cost\n",
    "\n",
    "Suppose the cover price of a book is \\\\$24.95, but bookstores get a 40\\% discount. Shipping costs $3 for the first copy and 75 cents for each additional copy. What is the total wholesale cost for 60 copies?"
   ]
  },
  {
   "cell_type": "code",
   "execution_count": 95,
   "metadata": {},
   "outputs": [
    {
     "name": "stdout",
     "output_type": "stream",
     "text": [
      "Total wholesale cost is $981.45\n"
     ]
    }
   ],
   "source": [
    "def wholesale_cost(copies):\n",
    "    cover_price = 25.95\n",
    "    discount = .4\n",
    "    ship1 = 3\n",
    "    ship2 = .75\n",
    "    \n",
    "    cost = round(copies*cover_price*(1-discount) + ship1 + ship2*(copies-1),2)\n",
    "    \n",
    "    print(\"Total wholesale cost is $\" + str(cost))\n",
    "\n",
    "wholesale_cost(60)"
   ]
  },
  {
   "cell_type": "markdown",
   "metadata": {},
   "source": [
    "#### 10. Run Time\n",
    "\n",
    "If I leave my house at 6:52 am and run 1 mile at an easy pace (8:15 per mile), then 3 miles at tempo (7:12 per mile) and 1 mile at easy pace again, what time do I get home for breakfast?"
   ]
  },
  {
   "cell_type": "code",
   "execution_count": 109,
   "metadata": {},
   "outputs": [
    {
     "name": "stdout",
     "output_type": "stream",
     "text": [
      "The run will end at 7:30am\n"
     ]
    }
   ],
   "source": [
    "def run_time():\n",
    "    start = 6 + (52/60)\n",
    "    \n",
    "    running = 2*((8/60) + (16/3600)) + 3*((7/60) + (12/3600))\n",
    "    \n",
    "    end = round(start + running,2)\n",
    "    end_hour = math.trunc(end)\n",
    "    end_minutes = math.trunc(end%1 * 60)\n",
    "\n",
    "    print(\"The run will end at \" + str(end_hour) + \":\" + str(end_minutes) + \"am\" )\n",
    "    \n",
    "run_time()"
   ]
  }
 ],
 "metadata": {
  "kernelspec": {
   "display_name": "Python 3",
   "language": "python",
   "name": "python3"
  },
  "language_info": {
   "codemirror_mode": {
    "name": "ipython",
    "version": 3
   },
   "file_extension": ".py",
   "mimetype": "text/x-python",
   "name": "python",
   "nbconvert_exporter": "python",
   "pygments_lexer": "ipython3",
   "version": "3.7.6"
  }
 },
 "nbformat": 4,
 "nbformat_minor": 2
}
