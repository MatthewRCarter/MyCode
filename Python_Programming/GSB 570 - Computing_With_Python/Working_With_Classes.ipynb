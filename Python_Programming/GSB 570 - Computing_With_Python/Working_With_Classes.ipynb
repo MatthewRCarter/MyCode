{
 "cells": [
  {
   "cell_type": "markdown",
   "metadata": {},
   "source": [
    "#### 1. Pet Class\n",
    "The Pet class \n",
    "\n",
    "Write a class named Pet, which should have the following data attributes:\n",
    "\n",
    "- _ _name (for the name of a pet) \n",
    "- _ _animal_type (for the type of animal that a pet is. Example values are ‘Dog’, ‘Cat’, and ‘Bird’) \n",
    "- _ _age (for the pet’s age) \n",
    "\n",
    "The Pet class should have an _ _init_ _ method that creates these attributes. \n",
    "It should also have the following methods:\n",
    "- set_name This method assigns a value to the _ _name field. \n",
    "- set_animal_type This method assigns a value to the _ _animal_type field.\n",
    "- set_age This method assigns a value to the _ _age field. \n",
    "- get_name This method returns the value of the _ _ name field. \n",
    "- get_animal_type This method returns the value of the _ _animal_type field.\n",
    "- get_age This method returns the value of the _ _age field. \n",
    "\n",
    "Once you have written the class, write a program that creates an object of the class and prompts the user to enter the name, type, and age of his or her pet. \n",
    "\n",
    "This data should be stored as the object’s attributes. Use the object’s accessor methods to retrieve the pet’s name, type, and age and display this data on the screen."
   ]
  },
  {
   "cell_type": "code",
   "execution_count": 1,
   "metadata": {},
   "outputs": [
    {
     "name": "stdout",
     "output_type": "stream",
     "text": [
      "Enter the name of your pet: Muggles\n",
      "Enter the type of pet you have: Dog\n",
      "Enter the age of your pet: 8\n",
      "Your pet's name is Muggles, and your pet is a Dog and they are 8 years old.\n"
     ]
    }
   ],
   "source": [
    "class Pet:\n",
    "    def __init__(self, name, animal_type, age): \n",
    "        self.__name = name\n",
    "        self.__animal_type= animal_type\n",
    "        self.__age= age\n",
    "    def set_name(self, name):\n",
    "        self.__name = name\n",
    "    def set_animal_type (self, animal_type):\n",
    "        self.__animal_type= animal_type\n",
    "    def set_age(self, age):\n",
    "        self.__age= age\n",
    "    def get_name(self):\n",
    "        return self.__name\n",
    "    def get_animal_type (self):\n",
    "        return self.__animal_type\n",
    "    def get_age(self):\n",
    "        return self.__age\n",
    "    \n",
    "name = input(\"Enter the name of your pet: \")\n",
    "animal_type= input(\"Enter the type of pet you have: \")\n",
    "age= input(\"Enter the age of your pet: \")\n",
    "\n",
    "pet_name= Pet(name, animal_type, age)\n",
    "\n",
    "print(\"Your pet's name is \" + pet_name.get_name() +  \", and your pet is a \" + pet_name.get_animal_type() + \" and they are \" + pet_name.get_age() + \" years old.\")\n"
   ]
  },
  {
   "cell_type": "markdown",
   "metadata": {},
   "source": [
    "#### 2. Car Class\n",
    "\n",
    "Write a class named Car that has the following data attributes: \n",
    "- _ _year_model (for the car’s year model) \n",
    "- _ _make (for the make of the car)\n",
    "- _ _speed (for the car’s current speed) \n",
    "\n",
    "The Car class should have an _ _init_ _ method that accepts the car’s year model and make as arguments. These values should be assigned to the object’s _ _year_model and _ _make data attributes. It should also assign 0 to the _ _speed data attribute. \n",
    "\n",
    "The class should also have the following methods:\n",
    "- accelerate The accelerate method should add 5 to the speed data attribute each time it is called. \n",
    "- brake The brake method should subtract 5 from the speed data attribute each time it is called. \n",
    "- get_speed The get_speed method should return the current speed. \n",
    "\n",
    "Next, design a program that creates a Car object then calls the accelerate method five times. After each call to the accelerate method, get the current speed of the car and display it. Then call the brake method five times. After each call to the brake method, get the current speed of the car and display it."
   ]
  },
  {
   "cell_type": "code",
   "execution_count": 2,
   "metadata": {},
   "outputs": [
    {
     "name": "stdout",
     "output_type": "stream",
     "text": [
      "The vehicle's speed is now 5\n",
      "The vehicle's speed is now 10\n",
      "The vehicle's speed is now 15\n",
      "The vehicle's speed is now 20\n",
      "The vehicle's speed is now 25\n",
      "The vehicle's speed is now 20\n",
      "The vehicle's speed is now 15\n",
      "The vehicle's speed is now 10\n",
      "The vehicle's speed is now 5\n",
      "The vehicle's speed is now 0\n"
     ]
    }
   ],
   "source": [
    "class Car:\n",
    "    def __init__(self, year_model, make):\n",
    "        self.__year_model = year_model\n",
    "        self.__make = make\n",
    "        self.__speed = 0\n",
    "    def accelerate (self):\n",
    "        self.__speed += 5\n",
    "    def brake (self):\n",
    "        self.__speed -= 5\n",
    "    def get_speed (self):\n",
    "        return self.__speed\n",
    "    \n",
    "vehicle = Car(2015, 'Toyota')\n",
    "\n",
    "for i in range(5):\n",
    "    vehicle.accelerate()\n",
    "    print(\"The vehicle's speed is now \" + str(vehicle.get_speed()))\n",
    "    \n",
    "for i in range(5):\n",
    "    vehicle.brake()\n",
    "    print(\"The vehicle's speed is now \" + str(vehicle.get_speed()))"
   ]
  },
  {
   "cell_type": "markdown",
   "metadata": {},
   "source": [
    "#### 3. Employee Class \n",
    "\n",
    "Write a class named Employee that holds the following data about an employee in attributes: name, ID number, department, and job title. \n",
    "\n",
    "Once you have written the class, write a program that creates three Employee objects to hold the following data:\n",
    "\n",
    "|Name |ID Number| Department |Job Title|\n",
    "|-----|---------|------------|---------|\n",
    "|Susan Meyers|47899 |Accounting |Vice President|\n",
    "|Mark Jones| 39119 |IT |Programmer| \n",
    "|Joy Rogers| 81774 |Manufacturing|Engineer|\n",
    "\n",
    "The program should store this data in the three objects, then display the data for each employee on the screen.\n"
   ]
  },
  {
   "cell_type": "code",
   "execution_count": 3,
   "metadata": {},
   "outputs": [
    {
     "name": "stdout",
     "output_type": "stream",
     "text": [
      "Susan Meyers\t47899\tAccounting\tVice President\n",
      "Mark Jones\t39119\tIT\tProgrammer\n",
      "Joy Rogers\t81774\tManufacturing\tEngineer\n"
     ]
    }
   ],
   "source": [
    "class Employee: \n",
    "    def __init__(self, name, ID_number, department, job_title):\n",
    "        self.__name= name\n",
    "        self.__ID_number = ID_number\n",
    "        self.__department = department\n",
    "        self.__job_title = job_title\n",
    "    def get_name(self):\n",
    "        return self.__name\n",
    "    def get_ID_number(self):\n",
    "        return self.__ID_number\n",
    "    def get_department(self):\n",
    "        return self.__department\n",
    "    def get_job_title(self):\n",
    "        return self.__job_title\n",
    "        \n",
    "employee_1 = Employee('Susan Meyers', '47899', 'Accounting', 'Vice President')\n",
    "employee_2 = Employee('Mark Jones', '39119', 'IT', 'Programmer')\n",
    "employee_3= Employee('Joy Rogers', '81774', 'Manufacturing', 'Engineer')\n",
    "\n",
    "print(employee_1.get_name() + \"\\t\" + employee_1.get_ID_number() + \"\\t\" + employee_1.get_department() + \"\\t\" + employee_1.get_job_title())\n",
    "print(employee_2.get_name() + \"\\t\" + employee_2.get_ID_number() + \"\\t\" + employee_2.get_department() + \"\\t\" + employee_2.get_job_title())\n",
    "print(employee_3.get_name() + \"\\t\" + employee_3.get_ID_number() + \"\\t\" + employee_3.get_department() + \"\\t\" + employee_3.get_job_title())\n"
   ]
  },
  {
   "cell_type": "markdown",
   "metadata": {},
   "source": [
    "#### 4. Retail Item Class \n",
    "\n",
    "Write a class named RetailItem that holds data about an item in a retail store. The class should store the following data in attributes: \n",
    "- item description \n",
    "- units in inventory \n",
    "- price. \n",
    "\n",
    "Once you have written the class, write a program that creates three RetailItem objects and stores the following data in them:\n",
    "\n",
    "|Description| Units in Inventory|Price|\n",
    "|-----------|-------------------|-----|\n",
    "|Jacket|12 |59.95|\n",
    "|Designer Jeans|40 |34.95 |\n",
    "|Shirt |20 |24.95|\n",
    "\n"
   ]
  },
  {
   "cell_type": "code",
   "execution_count": 4,
   "metadata": {},
   "outputs": [
    {
     "name": "stdout",
     "output_type": "stream",
     "text": [
      "Jacket\t\t12\t59.95\n",
      "Designer Jeans\t40\t34.95\n",
      "Shirt\t\t20\t24.95\n"
     ]
    }
   ],
   "source": [
    "class RetailItem: \n",
    "    def __init__(self, description, units, price):\n",
    "        self.__description= description\n",
    "        self.__units = units\n",
    "        self.__price = price\n",
    "    def get_description(self):\n",
    "        return self.__description\n",
    "    def get_units(self):\n",
    "        return self.__units\n",
    "    def get_price(self):\n",
    "        return self.__price\n",
    "    \n",
    "item1= RetailItem('Jacket', '12', '59.95')\n",
    "item2= RetailItem('Designer Jeans', '40', '34.95')\n",
    "item3=RetailItem('Shirt', '20', '24.95')\n",
    "\n",
    "print(item1.get_description() + \"\\t\\t\" + item1.get_units() + \"\\t\" + item1.get_price())\n",
    "print(item2.get_description() + \"\\t\" + item2.get_units() + \"\\t\" + item2.get_price())\n",
    "print(item3.get_description() + \"\\t\\t\" + item3.get_units() + \"\\t\" + item3.get_price())"
   ]
  },
  {
   "cell_type": "markdown",
   "metadata": {},
   "source": [
    "#### 5. Cash Register \n",
    "\n",
    "Usethe RetailItem class in the problem above. Create a CashRegister class that can be used with the RetailItem class. The CashRegister class should be able to internally keep a list of RetailItem objects. The class should have the following methods: \n",
    "- A method named purchase_item that accepts a RetailItem object as an argumentEach time the purchase_item method is called, the RetailItem object that is passed as an argument should be added to the list. \n",
    "- A method named get_total that returns the total price of all the RetailItem objects stored in the CashRegister object’s internal list. \n",
    "- A method named show_items that displays data about the RetailItem objects stored in the CashRegister object’s internal list. \n",
    "- A method named clear that should clear the CashRegister object’s internal list. \n",
    "\n",
    "Demonstrate the CashRegister class in a program that allows the user to select several items for purchase. When the user is ready to check out, the program should display a list of all the items he or she has selected for purchase, as well as the total price. "
   ]
  },
  {
   "cell_type": "code",
   "execution_count": 5,
   "metadata": {},
   "outputs": [
    {
     "name": "stdout",
     "output_type": "stream",
     "text": [
      "Jacket\t\t12\t59.95\n",
      "Designer Jeans\t40\t34.95\n",
      "Shirt\t\t20\t24.95\n",
      "Which item from the list would you like to purchase: Jacket\n",
      "What else would you like to buy? (1 for yes, 2 for no)1\n",
      "Which item from the list would you like to purchase: Jacket\n",
      "What else would you like to buy? (1 for yes, 2 for no)2\n",
      "This is what you are purchasing: \n",
      "Jacket\t12\t59.95\n",
      "Jacket\t12\t59.95\n",
      "The total is $119.9\n"
     ]
    }
   ],
   "source": [
    "class RetailItem: \n",
    "    def __init__(self, item, units, price):\n",
    "        self.__item= item\n",
    "        self.__units = units\n",
    "        self.__price = price\n",
    "    def get_item(self):\n",
    "        return self.__item\n",
    "    def get_units(self):\n",
    "        return self.__units\n",
    "    def get_price(self):\n",
    "        return self.__price\n",
    "class CashRegister:\n",
    "    def __init__(self, items):\n",
    "        self.__items= items\n",
    "    def purchase_item(self, item):\n",
    "        self.__items.append(item)\n",
    "    def get_total(self):\n",
    "        total=0\n",
    "        for i in self.__items:\n",
    "            total += i.get_price()\n",
    "        return str(total)\n",
    "    def show_items(self):\n",
    "        for i in self.__items:\n",
    "            print(i.get_item()+ \"\\t\" + i.get_units() + \"\\t\" + str(i.get_price()))\n",
    "    def clear(self):\n",
    "        items = []\n",
    "\n",
    "    \n",
    "item1= RetailItem('Jacket', '12', 59.95)\n",
    "item2= RetailItem('Designer Jeans', '40', 34.95)\n",
    "item3=RetailItem('Shirt', '20', 24.95)\n",
    "\n",
    "print(item1.get_item() + \"\\t\\t\" + item1.get_units() + \"\\t\" + str(item1.get_price()))\n",
    "print(item2.get_item() + \"\\t\" + item2.get_units() + \"\\t\" + str(item2.get_price()))\n",
    "print(item3.get_item() + \"\\t\\t\" + item3.get_units() + \"\\t\" + str(item3.get_price()))        \n",
    "        \n",
    "register= CashRegister([])        \n",
    "        \n",
    "        \n",
    "items= []       \n",
    "while True:\n",
    "    items = input(\"Which item from the list would you like to purchase: \")\n",
    "    if items == 'Jacket':\n",
    "        register.purchase_item(item1)\n",
    "    elif items == \"Designer Jeans\":\n",
    "        register.purchase_item(item2)\n",
    "    elif items== \"Shirt\":\n",
    "        register.purchase_item(item3)\n",
    "    more= input(\"What else would you like to buy? (1 for yes, 2 for no)\")\n",
    "    if more== \"2\":\n",
    "        print(\"This is what you are purchasing: \") \n",
    "        register.show_items() \n",
    "        print(\"The total is $\" + register.get_total())\n",
    "        break  "
   ]
  },
  {
   "cell_type": "markdown",
   "metadata": {},
   "source": [
    "#### 6. List Comprehension\n",
    "\n",
    "Create a list of integers which specify the length of each word in a certain sentence, but only if the word is not the word \"the\".\n",
    "\n",
    "for example:\n",
    "\n",
    "```python\n",
    "sentence = \"These are the times that try men's souls: The summer soldier and the sunshine patriot will, in this crisis, shrink from the service of his country; but he that stands by it now, deserves the love and thanks of man and woman.\"\n",
    "\n",
    "words = sentence.split()\n",
    "word_lengths = []\n",
    "for word in words:\n",
    "      if word != \"the\":\n",
    "          word_lengths.append(len(word))\n",
    "print(words)\n",
    "print(word_lengths)\n",
    "```\n",
    "\n",
    "rewrite the above code to use list comprehension."
   ]
  },
  {
   "cell_type": "code",
   "execution_count": 8,
   "metadata": {},
   "outputs": [
    {
     "name": "stdout",
     "output_type": "stream",
     "text": [
      "['These', 'are', 'the', 'times', 'that', 'try', \"men's\", 'souls:', 'The', 'summer', 'soldier', 'and', 'the', 'sunshine', 'patriot', 'will,', 'in', 'this', 'crisis,', 'shrink', 'from', 'the', 'service', 'of', 'his', 'country;', 'but', 'he', 'that', 'stands', 'by', 'it', 'now,', 'deserves', 'the', 'love', 'and', 'thanks', 'of', 'man', 'and', 'woman.']\n",
      "[5, 3, 5, 4, 3, 5, 6, 3, 6, 7, 3, 8, 7, 5, 2, 4, 7, 6, 4, 7, 2, 3, 8, 3, 2, 4, 6, 2, 2, 4, 8, 4, 3, 6, 2, 3, 3, 6]\n"
     ]
    }
   ],
   "source": [
    "sentence = \"These are the times that try men's souls: The summer soldier and the sunshine patriot will, in this crisis, shrink from the service of his country; but he that stands by it now, deserves the love and thanks of man and woman.\"\n",
    "\n",
    "words = sentence.split()\n",
    "word_lengths = [len(word) for word in words if word!=\"the\"]\n",
    "\n",
    "print(words)\n",
    "print(word_lengths)"
   ]
  },
  {
   "cell_type": "markdown",
   "metadata": {},
   "source": [
    "#### 7. Lambda functions\n",
    "\n",
    "Create and use a Python lambda expression to calculate the square of a number."
   ]
  },
  {
   "cell_type": "code",
   "execution_count": 9,
   "metadata": {},
   "outputs": [
    {
     "data": {
      "text/plain": [
       "16"
      ]
     },
     "execution_count": 9,
     "metadata": {},
     "output_type": "execute_result"
    }
   ],
   "source": [
    "expression = lambda x: x ** 2\n",
    "expression(4)"
   ]
  },
  {
   "cell_type": "markdown",
   "metadata": {},
   "source": [
    "#### 8. LIst sorting using lambda function for key\n",
    "\n",
    "Write code to sort the following two dimensional list by the second item in the inner list using the sort method of the list and a lambda function as the key.\n",
    "\n",
    "```python\n",
    "scores = [['alex',10],['beverly',5],['charlie',12],['diane',26]]\n",
    "\n",
    "```"
   ]
  },
  {
   "cell_type": "code",
   "execution_count": 10,
   "metadata": {},
   "outputs": [
    {
     "name": "stdout",
     "output_type": "stream",
     "text": [
      "[['beverly', 5], ['alex', 10], ['charlie', 12], ['diane', 26]]\n"
     ]
    }
   ],
   "source": [
    "scores = [['alex',10],['beverly',5],['charlie',12],['diane',26]]\n",
    "\n",
    "def Sort(scores): \n",
    "    #returns the second element of scores if you do [1]\n",
    "    scores.sort(key = lambda x: x[1]) \n",
    "    return scores\n",
    "\n",
    "print(Sort(scores))"
   ]
  }
 ],
 "metadata": {
  "kernelspec": {
   "display_name": "Python 3",
   "language": "python",
   "name": "python3"
  },
  "language_info": {
   "codemirror_mode": {
    "name": "ipython",
    "version": 3
   },
   "file_extension": ".py",
   "mimetype": "text/x-python",
   "name": "python",
   "nbconvert_exporter": "python",
   "pygments_lexer": "ipython3",
   "version": "3.7.6"
  }
 },
 "nbformat": 4,
 "nbformat_minor": 4
}
