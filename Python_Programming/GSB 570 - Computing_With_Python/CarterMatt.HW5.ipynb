{
 "cells": [
  {
   "cell_type": "markdown",
   "metadata": {},
   "source": [
    "# **Homework Five**"
   ]
  },
  {
   "cell_type": "markdown",
   "metadata": {},
   "source": [
    "\n",
    "•\t(Ungraded, but as always, completion still counts!) DataCamp Data Ingestion & inspection, and Exploratory data analysis\n",
    "\n",
    "•\t(Ungraded) Reading Vanderplas Chapters 2 & 3 (https://jakevdp.github.io/PythonDataScienceHandbook/)\n",
    "\n",
    "•\t(Graded) Part I: Gaddis 11.3 (Follow prompts below), Part II: Data exercise below (Enter your code whereever it says # Your code here)"
   ]
  },
  {
   "cell_type": "markdown",
   "metadata": {},
   "source": [
    "# ** Part I (Gaddis 11.3)**"
   ]
  },
  {
   "cell_type": "markdown",
   "metadata": {},
   "source": [
    "Below is a class named <span style=\"color:green\"> Person </span> with data attributes for a person’s ** name, address, and telephone number**. Next, write a class named <span style=\"color:green\"> Customer </span> that is a subclass of the Person class. The <span style=\"color:green\"> Customer </span> class should have a data attribute for a **customer number**, and a Boolean data attribute, **on_list**, indicating whether the customer wishes to be on a mailing list. The <span style=\"color:green\"> Customer </span> class should also have a method that asks the user if they want to be on the list (y/n), and then assigns that to the on_list attribute. Demonstrate an instance of the <span style=\"color:green\"> Customer </span> class in a simple program. (This is a short problem, so don't overthink it.)\n"
   ]
  },
  {
   "cell_type": "code",
   "execution_count": 1,
   "metadata": {},
   "outputs": [],
   "source": [
    "class Person:\n",
    "    def __init__(self, name, address, phone_number):\n",
    "        self.name = name\n",
    "        self.address = address\n",
    "        self.phone_number = phone_number"
   ]
  },
  {
   "cell_type": "code",
   "execution_count": 2,
   "metadata": {},
   "outputs": [],
   "source": [
    "class Customer(Person):\n",
    "    def __init__(self, name, address, phone_number, cust_number, on_list):\n",
    "        Person.__init__(self, name, address, phone_number)\n",
    "        self.cust_number = cust_number\n",
    "        self.on_list = on_list\n",
    "\n",
    "    def set_on_list(self):\n",
    "        mail = input(\"Would you like to be on the mailing list? (y/n):\")\n",
    "        \n",
    "        if mail == \"y\":\n",
    "            self.on_list = \"y\"\n",
    "            return self.on_list\n",
    "        else:\n",
    "            self.on_list = \"n\"\n",
    "            return self.on_list"
   ]
  },
  {
   "cell_type": "markdown",
   "metadata": {},
   "source": [
    "1. Create an instance of the Customer class called Jane, instantiating Jane with 'n' for the on-list attribute. \n",
    "2. Then call the set_on_list() method for Jane, and respond 'y'\n",
    "3. Call the Jane.on_list attribute to show that on_list changed from 'n' to 'y'"
   ]
  },
  {
   "cell_type": "code",
   "execution_count": 3,
   "metadata": {},
   "outputs": [
    {
     "name": "stdout",
     "output_type": "stream",
     "text": [
      "Would you like to be on the mailing list? (y/n):y\n"
     ]
    },
    {
     "data": {
      "text/plain": [
       "'y'"
      ]
     },
     "execution_count": 3,
     "metadata": {},
     "output_type": "execute_result"
    }
   ],
   "source": [
    "# Your code here after Jane\n",
    "Jane = Customer(\"Jane\", \"1 Grand Ave\", 1212121212, 1234, 'n')\n",
    "\n",
    "Jane.set_on_list()\n",
    "\n",
    "Jane.on_list"
   ]
  },
  {
   "cell_type": "markdown",
   "metadata": {},
   "source": [
    "# Part II (Data)"
   ]
  },
  {
   "cell_type": "markdown",
   "metadata": {},
   "source": [
    "a) Use the bmore.csv dataset for this homework. Make sure your output does not display errors. \n",
    "Import the data into a DataFrame and describe the data."
   ]
  },
  {
   "cell_type": "code",
   "execution_count": 4,
   "metadata": {},
   "outputs": [],
   "source": [
    "import time                     \n",
    "import numpy as np\n",
    "import matplotlib.pyplot as plt\n",
    "import pandas as pd\n",
    "from scipy import stats as st\n",
    "import statsmodels.formula.api as sm\n",
    "from patsy import dmatrices\n",
    "\n",
    "# Your code here to load the csv file\n",
    "df = pd.read_csv(\"bmore.csv\")"
   ]
  },
  {
   "cell_type": "markdown",
   "metadata": {},
   "source": [
    "b) Report summary statistics (e.g., mean, median, and standard deviations) of all numerical\n",
    "variables using numpy's methods. That is, print a table that says something like this:\n",
    "\n",
    "** variable 1 name **\n",
    "\n",
    "mean(Variable 1)\n",
    "\n",
    "median(variable 1)\n",
    "\n",
    "stand.Dev.(Variable 1)\n",
    "\n",
    "\n",
    "\n",
    "** variable 2 name**\n",
    "\n",
    "mean(Variable 2)\n",
    "\n",
    "median(variable 2)\n",
    "\n",
    "mode(variable 2)"
   ]
  },
  {
   "cell_type": "code",
   "execution_count": 5,
   "metadata": {},
   "outputs": [
    {
     "name": "stdout",
     "output_type": "stream",
     "text": [
      "Population\n",
      "Mean: 11214.581818181818\n",
      "Median: 9874.0\n",
      "Standard Deviation: 4340.770727309922\n",
      "\n",
      "\n",
      "Median_Income\n",
      "Mean: 40319.454545454544\n",
      "Median: 36632.0\n",
      "Standard Deviation: 16405.020242030005\n",
      "\n",
      "\n",
      "Unemployed\n",
      "Mean: 0.11672727272727272\n",
      "Median: 0.11\n",
      "Standard Deviation: 0.05504390656404802\n",
      "\n",
      "\n",
      "Families_in_Poverty\n",
      "Mean: 0.15836363636363637\n",
      "Median: 0.13\n",
      "Standard Deviation: 0.10215753333044812\n",
      "\n",
      "\n",
      "Bachelors_degree\n",
      "Mean: 0.2587272727272728\n",
      "Median: 0.18\n",
      "Standard Deviation: 0.20806030594299071\n",
      "\n",
      "\n",
      "Juvenile_Arrest_Rate\n",
      "Mean: 162.87454545454545\n",
      "Median: 129.4\n",
      "Standard Deviation: 132.82893094361222\n",
      "\n",
      "\n",
      "Homicide_Incidence_Rate\n",
      "Mean: 21.463636363636365\n",
      "Median: 19.0\n",
      "Standard Deviation: 15.525777414022281\n",
      "\n",
      "\n",
      "Unnamed: 8\n",
      "Mean: 71.49818181818182\n",
      "Median: 71.9\n",
      "Standard Deviation: 4.782897421449444\n",
      "\n",
      "\n"
     ]
    }
   ],
   "source": [
    "for x in df.columns:\n",
    "    if (df[x].dtypes) == np.dtype('O'):\n",
    "        # This if statement says, data type is a string/word, don't attempt to calculate stats\n",
    "        pass\n",
    "    else: \n",
    "        print(x)\n",
    "        print(\"Mean: \" + str(df[x].mean()))\n",
    "        print(\"Median: \" + str(df[x].median()))\n",
    "        print(\"Standard Deviation: \" + str(df[x].std()))\n",
    "        print(\"\\n\")"
   ]
  },
  {
   "cell_type": "markdown",
   "metadata": {},
   "source": [
    "Make a scatterplot of Median Income and Bachelors degree. The latter variable measures the\n",
    "percentage of the population in the county that has a bachelors degree. Label the x-axis \"Percent Bachelors Degree\", and make the title \"Scatterpolt of Median Income and Bachelors Degree.\""
   ]
  },
  {
   "cell_type": "code",
   "execution_count": 6,
   "metadata": {},
   "outputs": [
    {
     "data": {
      "image/png": "[encoded data removed]",
      "text/plain": [
       "<matplotlib.figure.Figure at 0x265db6dceb8>"
      ]
     },
     "metadata": {},
     "output_type": "display_data"
    }
   ],
   "source": [
    "# Show graphs within the Python notebook use matplotlib inline command\n",
    "%matplotlib inline\n",
    "\n",
    "# Your code here\n",
    "df.plot(kind = \"scatter\", x = \"Bachelors_degree\", y = \"Median_Income\")\n",
    "plt.xlabel(\"Percent Bachelors Degree\")\n",
    "plt.ylabel(\"Median Income\")\n",
    "plt.title(\"Scatterplot of Median Income and Bachelors Degree\")\n",
    "plt.show()"
   ]
  },
  {
   "cell_type": "markdown",
   "metadata": {},
   "source": [
    "Run a regression model of the following form:\n",
    "Report a table with all coefficient estimates including p-values."
   ]
  },
  {
   "cell_type": "markdown",
   "metadata": {},
   "source": [
    "$$\\textrm{Juvenile_Arrest_Rate} = \n",
    "\\beta_0 + \\beta_1\\textrm{Population} + \\beta_2\\textrm{Median_Income} + \\beta_3\\textrm{Unemployment} + \\beta4\\textrm{Education} + \\beta_5\\textrm{Poverty} + \\epsilon $$"
   ]
  },
  {
   "cell_type": "code",
   "execution_count": 7,
   "metadata": {},
   "outputs": [
    {
     "data": {
      "text/html": [
       "<table class=\"simpletable\">\n",
       "<tr>\n",
       "           <td></td>              <th>coef</th>     <th>std err</th>      <th>t</th>      <th>P>|t|</th>  <th>[0.025</th>    <th>0.975]</th>  \n",
       "</tr>\n",
       "<tr>\n",
       "  <th>Intercept</th>           <td>  265.4481</td> <td>  117.846</td> <td>    2.252</td> <td> 0.029</td> <td>   28.628</td> <td>  502.268</td>\n",
       "</tr>\n",
       "<tr>\n",
       "  <th>Population</th>          <td>   -0.0039</td> <td>    0.004</td> <td>   -1.097</td> <td> 0.278</td> <td>   -0.011</td> <td>    0.003</td>\n",
       "</tr>\n",
       "<tr>\n",
       "  <th>Median_Income</th>       <td>   -0.0054</td> <td>    0.002</td> <td>   -2.744</td> <td> 0.008</td> <td>   -0.009</td> <td>   -0.001</td>\n",
       "</tr>\n",
       "<tr>\n",
       "  <th>Unemployed</th>          <td> -327.2254</td> <td>  460.436</td> <td>   -0.711</td> <td> 0.481</td> <td>-1252.506</td> <td>  598.055</td>\n",
       "</tr>\n",
       "<tr>\n",
       "  <th>Bachelors_degree</th>    <td>  434.1787</td> <td>  124.732</td> <td>    3.481</td> <td> 0.001</td> <td>  183.520</td> <td>  684.838</td>\n",
       "</tr>\n",
       "<tr>\n",
       "  <th>Families_in_Poverty</th> <td>  523.8737</td> <td>  265.980</td> <td>    1.970</td> <td> 0.055</td> <td>  -10.633</td> <td> 1058.380</td>\n",
       "</tr>\n",
       "</table>"
      ],
      "text/plain": [
       "<class 'statsmodels.iolib.table.SimpleTable'>"
      ]
     },
     "execution_count": 7,
     "metadata": {},
     "output_type": "execute_result"
    }
   ],
   "source": [
    "# Create a fitted model\n",
    "lm = sm.ols(\"Juvenile_Arrest_Rate ~ Population + Median_Income + Unemployed + Bachelors_degree + Families_in_Poverty\"\n",
    "            , df).fit()\n",
    "\n",
    "# Your code here: print model summary\n",
    "lm.summary().tables[1]"
   ]
  },
  {
   "cell_type": "markdown",
   "metadata": {},
   "source": [
    "Interpret the coefficient on median income. A \\$1 dollar increase in median income will decrease the incarceration rate by how much? What about a \\$1,000 increase?"
   ]
  },
  {
   "cell_type": "markdown",
   "metadata": {},
   "source": [
    "# Your response here\n"
   ]
  },
  {
   "cell_type": "code",
   "execution_count": 8,
   "metadata": {},
   "outputs": [],
   "source": [
    "# Our coefficient of -0.0054 tells us that, after adjusting for the 4 other variables, each $1 increase in median income is associated \n",
    "# with a 0.0054 percentage point decrease in juvenile arrest rate. Subsequently, after adjusting for the 4 other variables, each $1,000 \n",
    "# increase in median income is associated with a 5.4 percentage point decrease in juvenile arrest rate."
   ]
  }
 ],
 "metadata": {
  "kernelspec": {
   "display_name": "Python 3",
   "language": "python",
   "name": "python3"
  },
  "language_info": {
   "codemirror_mode": {
    "name": "ipython",
    "version": 3
   },
   "file_extension": ".py",
   "mimetype": "text/x-python",
   "name": "python",
   "nbconvert_exporter": "python",
   "pygments_lexer": "ipython3",
   "version": "3.6.4"
  }
 },
 "nbformat": 4,
 "nbformat_minor": 2
}
